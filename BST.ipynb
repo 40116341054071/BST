{
  "nbformat": 4,
  "nbformat_minor": 0,
  "metadata": {
    "colab": {
      "provenance": [],
      "mount_file_id": "1v_3gmbLqFezBR-1ZNUfVIm4lBV9d4azs",
      "authorship_tag": "ABX9TyM3D5OOdYWDYHX9XucwuDng",
      "include_colab_link": true
    },
    "kernelspec": {
      "name": "python3",
      "display_name": "Python 3"
    },
    "language_info": {
      "name": "python"
    }
  },
  "cells": [
    {
      "cell_type": "markdown",
      "metadata": {
        "id": "view-in-github",
        "colab_type": "text"
      },
      "source": [
        "<a href=\"https://colab.research.google.com/github/40116341054071/BST/blob/main/BST.ipynb\" target=\"_parent\"><img src=\"https://colab.research.google.com/assets/colab-badge.svg\" alt=\"Open In Colab\"/></a>"
      ]
    },
    {
      "cell_type": "code",
      "execution_count": null,
      "metadata": {
        "id": "atK8LJruY6R6"
      },
      "outputs": [],
      "source": [
        "class NodeBST:\n",
        "    def __init__(self,data):\n",
        "        self.key=data\n",
        "        self.left=None\n",
        "        self.right=None\n",
        "    def searchBST(root,k):\n",
        "        if root is None or root.key==k:\n",
        "            return root\n",
        "        if k>root.key:\n",
        "            return searchBST(root.right,k)\n",
        "        return searchBST(root.left,k)\n",
        "    def insertBST(root,k):\n",
        "         if root is None:\n",
        "              return NodeBST(k)\n",
        "         if k<root.key:\n",
        "              root.left=insertBST(root.left,k)\n",
        "         else:\n",
        "             root.right=insertBST(root.right,k)\n",
        "         return\n",
        "r=NodeBST(5)\n",
        "r.left=NodeBST(3)\n",
        "r.left.left=NodeBST(2)\n",
        "r.left.right=NodeBST(4)\n",
        "r.right=NodeBST(8)\n",
        "searchBST(r,15)\n",
        "b=NodeBST(5)\n",
        "insert(b,3)#مثال\n",
        "#تابعی بنویسید که کمترین key را در درخت BST پیدا کند\n",
        "\n",
        "def minvalueBST(root):\n",
        "     if root is None:\n",
        "          return root\n",
        "     while root.left is not None:\n",
        "          root=root.left\n",
        "     return root.key\n",
        "\n",
        "#حل همین مثال به صورت بازگشتی\n",
        "\n",
        "def minNodeBST(r):\n",
        "     if r.left is None:\n",
        "         return r\n",
        "     else:\n",
        "         minNodeBST(r.left)\n",
        "     return"
      ]
    }
  ]
}